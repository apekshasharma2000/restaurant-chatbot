{
 "cells": [
  {
   "cell_type": "code",
   "execution_count": 2,
   "id": "393dd2a8-59d1-4d31-9f92-3480e98a499b",
   "metadata": {},
   "outputs": [
    {
     "name": "stdout",
     "output_type": "stream",
     "text": [
      "\n",
      "🤖 Welcome to ChatBot Restaurant!\n",
      "✅ Table 1 has been booked for you for this hour.\n"
     ]
    },
    {
     "name": "stdin",
     "output_type": "stream",
     "text": [
      "\n",
      "Enter cuisine type (Indian/Chinese/Italian):  indian\n"
     ]
    },
    {
     "name": "stdout",
     "output_type": "stream",
     "text": [
      "\n",
      "🍽️ Indian Menu:\n",
      "Roti - ₹10\n",
      "Dal - ₹30\n",
      "Rice - ₹25\n",
      "Paneer tikka - ₹80\n",
      "Butter chicken - ₹120\n"
     ]
    },
    {
     "name": "stdin",
     "output_type": "stream",
     "text": [
      "\n",
      "Enter dish name (or 'done' to stop this cuisine):  dal\n",
      "Enter quantity of Dal:  4\n",
      "\n",
      "Enter dish name (or 'done' to stop this cuisine):  done\n",
      "\n",
      "Would you like to order from another cuisine? (yes/no):  yes\n",
      "\n",
      "Enter cuisine type (Indian/Chinese/Italian):  chinese\n"
     ]
    },
    {
     "name": "stdout",
     "output_type": "stream",
     "text": [
      "\n",
      "🍽️ Chinese Menu:\n",
      "Noodles - ₹50\n",
      "Manchurian - ₹60\n",
      "Fried rice - ₹45\n",
      "Spring rolls - ₹40\n"
     ]
    },
    {
     "name": "stdin",
     "output_type": "stream",
     "text": [
      "\n",
      "Enter dish name (or 'done' to stop this cuisine):  spring rolls\n",
      "Enter quantity of Spring rolls:  7\n",
      "\n",
      "Enter dish name (or 'done' to stop this cuisine):  done\n",
      "\n",
      "Would you like to order from another cuisine? (yes/no):  no\n"
     ]
    },
    {
     "name": "stdout",
     "output_type": "stream",
     "text": [
      "\n",
      "🧾 Order Summary:\n",
      "Dal x 4 = ₹120\n",
      "Spring rolls x 7 = ₹280\n",
      "Total Bill: ₹400\n"
     ]
    },
    {
     "name": "stdin",
     "output_type": "stream",
     "text": [
      "\n",
      "Enter payment method (cash/card/upi):  upi\n"
     ]
    },
    {
     "name": "stdout",
     "output_type": "stream",
     "text": [
      "✅ Payment of ₹400 received via upi. Thank you for dining at table 1! 🍽️\n"
     ]
    }
   ],
   "source": [
    "import datetime\n",
    "\n",
    "# Store table booking status (hour -> table: booked status)\n",
    "table_bookings = {}\n",
    "\n",
    "def get_current_hour():\n",
    "    \"\"\"Returns the current hour (0 to 23).\"\"\"\n",
    "    return datetime.datetime.now().hour\n",
    "\n",
    "def get_available_tables():\n",
    "    \"\"\"Returns list of available tables for current hour.\"\"\"\n",
    "    current_hour = get_current_hour()\n",
    "    booked = table_bookings.get(current_hour, [])\n",
    "    return [t for t in range(1, 11) if t not in booked]\n",
    "\n",
    "def book_table():\n",
    "    \"\"\"Books an available table for the current hour.\"\"\"\n",
    "    available = get_available_tables()\n",
    "    if not available:\n",
    "        print(\"❌ All tables are currently booked for this hour. Please wait or try later.\")\n",
    "        return None\n",
    "    table = available[0]\n",
    "    current_hour = get_current_hour()\n",
    "    table_bookings.setdefault(current_hour, []).append(table)\n",
    "    print(f\"✅ Table {table} has been booked for you for this hour.\")\n",
    "    return table\n",
    "\n",
    "def restaurant_bot():\n",
    "    menus = {\n",
    "        \"indian\": {\n",
    "            \"roti\": 10, \"dal\": 30, \"rice\": 25, \"paneer tikka\": 80, \"butter chicken\": 120\n",
    "        },\n",
    "        \"chinese\": {\n",
    "            \"noodles\": 50, \"manchurian\": 60, \"fried rice\": 45, \"spring rolls\": 40\n",
    "        },\n",
    "        \"italian\": {\n",
    "            \"pizza\": 100, \"pasta\": 90, \"lasagna\": 110, \"garlic bread\": 35\n",
    "        }\n",
    "    }\n",
    "\n",
    "    print(\"\\n🤖 Welcome to ChatBot Restaurant!\")\n",
    "    table_number = book_table()\n",
    "    if table_number is None:\n",
    "        return\n",
    "\n",
    "    full_order = {}\n",
    "\n",
    "    while True:\n",
    "        cuisine = input(\"\\nEnter cuisine type (Indian/Chinese/Italian): \").strip().lower()\n",
    "        if cuisine not in menus:\n",
    "            print(\"❌ Invalid cuisine. Restarting...\")\n",
    "            continue\n",
    "\n",
    "        selected_menu = menus[cuisine]\n",
    "        print(f\"\\n🍽️ {cuisine.capitalize()} Menu:\")\n",
    "        for dish, price in selected_menu.items():\n",
    "            print(f\"{dish.capitalize()} - ₹{price}\")\n",
    "\n",
    "        while True:\n",
    "            item = input(\"\\nEnter dish name (or 'done' to stop this cuisine): \").strip().lower()\n",
    "            if item == \"done\":\n",
    "                break\n",
    "            if item not in selected_menu:\n",
    "                print(\"❌ Invalid dish. Restarting cuisine order...\")\n",
    "                break\n",
    "            try:\n",
    "                qty = int(input(f\"Enter quantity of {item.capitalize()}: \"))\n",
    "                full_order[item] = full_order.get(item, 0) + qty\n",
    "            except ValueError:\n",
    "                print(\"⚠️ Invalid quantity, please enter a number.\")\n",
    "                continue\n",
    "\n",
    "        more = input(\"\\nWould you like to order from another cuisine? (yes/no): \").strip().lower()\n",
    "        if more != \"yes\":\n",
    "            break\n",
    "\n",
    "    if not full_order:\n",
    "        print(\"❗ No valid items ordered. Please start again.\")\n",
    "        return\n",
    "\n",
    "    print(\"\\n🧾 Order Summary:\")\n",
    "    total = 0\n",
    "    for dish, qty in full_order.items():\n",
    "        for menu in menus.values():\n",
    "            if dish in menu:\n",
    "                price = menu[dish]\n",
    "                subtotal = qty * price\n",
    "                print(f\"{dish.capitalize()} x {qty} = ₹{subtotal}\")\n",
    "                total += subtotal\n",
    "\n",
    "    print(f\"Total Bill: ₹{total}\")\n",
    "\n",
    "    payment = input(\"\\nEnter payment method (cash/card/upi): \").strip().lower()\n",
    "    if payment in ['cash', 'card', 'upi']:\n",
    "        print(f\"✅ Payment of ₹{total} received via {payment}. Thank you for dining at table {table_number}! 🍽️\")\n",
    "    else:\n",
    "        print(\"❌ Invalid payment method. Restarting session...\\n\")\n",
    "        restaurant_bot()\n",
    "\n",
    "# Run the chatbot\n",
    "restaurant_bot()\n"
   ]
  },
  {
   "cell_type": "code",
   "execution_count": null,
   "id": "09ddba10-b8a1-4c21-9bfd-cc86d02457ac",
   "metadata": {},
   "outputs": [],
   "source": []
  }
 ],
 "metadata": {
  "kernelspec": {
   "display_name": "Python 3 (ipykernel)",
   "language": "python",
   "name": "python3"
  },
  "language_info": {
   "codemirror_mode": {
    "name": "ipython",
    "version": 3
   },
   "file_extension": ".py",
   "mimetype": "text/x-python",
   "name": "python",
   "nbconvert_exporter": "python",
   "pygments_lexer": "ipython3",
   "version": "3.13.3"
  }
 },
 "nbformat": 4,
 "nbformat_minor": 5
}
